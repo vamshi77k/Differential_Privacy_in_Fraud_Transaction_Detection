{
 "cells": [
  {
   "cell_type": "code",
   "execution_count": 1,
   "id": "d8fef4eb",
   "metadata": {},
   "outputs": [],
   "source": [
    "import numpy as np\n",
    "import pandas as pd\n",
    "import seaborn as sns\n",
    "import matplotlib.pyplot as plt\n",
    "from sklearn.preprocessing import StandardScaler\n",
    "from sklearn.linear_model import LogisticRegression\n",
    "from sklearn.ensemble import RandomForestClassifier\n",
    "from imblearn.over_sampling import SMOTE\n",
    "from sklearn.model_selection import train_test_split\n",
    "from sklearn.metrics import classification_report, confusion_matrix\n",
    "\n",
    "import warnings\n",
    "warnings.filterwarnings(\"ignore\")"
   ]
  },
  {
   "cell_type": "code",
   "execution_count": 2,
   "id": "84c146aa",
   "metadata": {},
   "outputs": [],
   "source": [
    "df1 = pd.read_csv(r\"/Users/vkc/Downloads/archive (2)/fraudTrain.csv\")"
   ]
  },
  {
   "cell_type": "code",
   "execution_count": 3,
   "id": "28599b6f",
   "metadata": {},
   "outputs": [
    {
     "data": {
      "text/html": [
       "<div>\n",
       "<style scoped>\n",
       "    .dataframe tbody tr th:only-of-type {\n",
       "        vertical-align: middle;\n",
       "    }\n",
       "\n",
       "    .dataframe tbody tr th {\n",
       "        vertical-align: top;\n",
       "    }\n",
       "\n",
       "    .dataframe thead th {\n",
       "        text-align: right;\n",
       "    }\n",
       "</style>\n",
       "<table border=\"1\" class=\"dataframe\">\n",
       "  <thead>\n",
       "    <tr style=\"text-align: right;\">\n",
       "      <th></th>\n",
       "      <th>Unnamed: 0</th>\n",
       "      <th>trans_date_trans_time</th>\n",
       "      <th>cc_num</th>\n",
       "      <th>merchant</th>\n",
       "      <th>category</th>\n",
       "      <th>amt</th>\n",
       "      <th>first</th>\n",
       "      <th>last</th>\n",
       "      <th>gender</th>\n",
       "      <th>street</th>\n",
       "      <th>...</th>\n",
       "      <th>lat</th>\n",
       "      <th>long</th>\n",
       "      <th>city_pop</th>\n",
       "      <th>job</th>\n",
       "      <th>dob</th>\n",
       "      <th>trans_num</th>\n",
       "      <th>unix_time</th>\n",
       "      <th>merch_lat</th>\n",
       "      <th>merch_long</th>\n",
       "      <th>is_fraud</th>\n",
       "    </tr>\n",
       "  </thead>\n",
       "  <tbody>\n",
       "    <tr>\n",
       "      <th>0</th>\n",
       "      <td>0</td>\n",
       "      <td>2019-01-01 00:00:18</td>\n",
       "      <td>2703186189652095</td>\n",
       "      <td>fraud_Rippin, Kub and Mann</td>\n",
       "      <td>misc_net</td>\n",
       "      <td>4.97</td>\n",
       "      <td>Jennifer</td>\n",
       "      <td>Banks</td>\n",
       "      <td>F</td>\n",
       "      <td>561 Perry Cove</td>\n",
       "      <td>...</td>\n",
       "      <td>36.0788</td>\n",
       "      <td>-81.1781</td>\n",
       "      <td>3495</td>\n",
       "      <td>Psychologist, counselling</td>\n",
       "      <td>1988-03-09</td>\n",
       "      <td>0b242abb623afc578575680df30655b9</td>\n",
       "      <td>1325376018</td>\n",
       "      <td>36.011293</td>\n",
       "      <td>-82.048315</td>\n",
       "      <td>0</td>\n",
       "    </tr>\n",
       "    <tr>\n",
       "      <th>1</th>\n",
       "      <td>1</td>\n",
       "      <td>2019-01-01 00:00:44</td>\n",
       "      <td>630423337322</td>\n",
       "      <td>fraud_Heller, Gutmann and Zieme</td>\n",
       "      <td>grocery_pos</td>\n",
       "      <td>107.23</td>\n",
       "      <td>Stephanie</td>\n",
       "      <td>Gill</td>\n",
       "      <td>F</td>\n",
       "      <td>43039 Riley Greens Suite 393</td>\n",
       "      <td>...</td>\n",
       "      <td>48.8878</td>\n",
       "      <td>-118.2105</td>\n",
       "      <td>149</td>\n",
       "      <td>Special educational needs teacher</td>\n",
       "      <td>1978-06-21</td>\n",
       "      <td>1f76529f8574734946361c461b024d99</td>\n",
       "      <td>1325376044</td>\n",
       "      <td>49.159047</td>\n",
       "      <td>-118.186462</td>\n",
       "      <td>0</td>\n",
       "    </tr>\n",
       "    <tr>\n",
       "      <th>2</th>\n",
       "      <td>2</td>\n",
       "      <td>2019-01-01 00:00:51</td>\n",
       "      <td>38859492057661</td>\n",
       "      <td>fraud_Lind-Buckridge</td>\n",
       "      <td>entertainment</td>\n",
       "      <td>220.11</td>\n",
       "      <td>Edward</td>\n",
       "      <td>Sanchez</td>\n",
       "      <td>M</td>\n",
       "      <td>594 White Dale Suite 530</td>\n",
       "      <td>...</td>\n",
       "      <td>42.1808</td>\n",
       "      <td>-112.2620</td>\n",
       "      <td>4154</td>\n",
       "      <td>Nature conservation officer</td>\n",
       "      <td>1962-01-19</td>\n",
       "      <td>a1a22d70485983eac12b5b88dad1cf95</td>\n",
       "      <td>1325376051</td>\n",
       "      <td>43.150704</td>\n",
       "      <td>-112.154481</td>\n",
       "      <td>0</td>\n",
       "    </tr>\n",
       "    <tr>\n",
       "      <th>3</th>\n",
       "      <td>3</td>\n",
       "      <td>2019-01-01 00:01:16</td>\n",
       "      <td>3534093764340240</td>\n",
       "      <td>fraud_Kutch, Hermiston and Farrell</td>\n",
       "      <td>gas_transport</td>\n",
       "      <td>45.00</td>\n",
       "      <td>Jeremy</td>\n",
       "      <td>White</td>\n",
       "      <td>M</td>\n",
       "      <td>9443 Cynthia Court Apt. 038</td>\n",
       "      <td>...</td>\n",
       "      <td>46.2306</td>\n",
       "      <td>-112.1138</td>\n",
       "      <td>1939</td>\n",
       "      <td>Patent attorney</td>\n",
       "      <td>1967-01-12</td>\n",
       "      <td>6b849c168bdad6f867558c3793159a81</td>\n",
       "      <td>1325376076</td>\n",
       "      <td>47.034331</td>\n",
       "      <td>-112.561071</td>\n",
       "      <td>0</td>\n",
       "    </tr>\n",
       "    <tr>\n",
       "      <th>4</th>\n",
       "      <td>4</td>\n",
       "      <td>2019-01-01 00:03:06</td>\n",
       "      <td>375534208663984</td>\n",
       "      <td>fraud_Keeling-Crist</td>\n",
       "      <td>misc_pos</td>\n",
       "      <td>41.96</td>\n",
       "      <td>Tyler</td>\n",
       "      <td>Garcia</td>\n",
       "      <td>M</td>\n",
       "      <td>408 Bradley Rest</td>\n",
       "      <td>...</td>\n",
       "      <td>38.4207</td>\n",
       "      <td>-79.4629</td>\n",
       "      <td>99</td>\n",
       "      <td>Dance movement psychotherapist</td>\n",
       "      <td>1986-03-28</td>\n",
       "      <td>a41d7549acf90789359a9aa5346dcb46</td>\n",
       "      <td>1325376186</td>\n",
       "      <td>38.674999</td>\n",
       "      <td>-78.632459</td>\n",
       "      <td>0</td>\n",
       "    </tr>\n",
       "  </tbody>\n",
       "</table>\n",
       "<p>5 rows × 23 columns</p>\n",
       "</div>"
      ],
      "text/plain": [
       "   Unnamed: 0 trans_date_trans_time            cc_num  \\\n",
       "0           0   2019-01-01 00:00:18  2703186189652095   \n",
       "1           1   2019-01-01 00:00:44      630423337322   \n",
       "2           2   2019-01-01 00:00:51    38859492057661   \n",
       "3           3   2019-01-01 00:01:16  3534093764340240   \n",
       "4           4   2019-01-01 00:03:06   375534208663984   \n",
       "\n",
       "                             merchant       category     amt      first  \\\n",
       "0          fraud_Rippin, Kub and Mann       misc_net    4.97   Jennifer   \n",
       "1     fraud_Heller, Gutmann and Zieme    grocery_pos  107.23  Stephanie   \n",
       "2                fraud_Lind-Buckridge  entertainment  220.11     Edward   \n",
       "3  fraud_Kutch, Hermiston and Farrell  gas_transport   45.00     Jeremy   \n",
       "4                 fraud_Keeling-Crist       misc_pos   41.96      Tyler   \n",
       "\n",
       "      last gender                        street  ...      lat      long  \\\n",
       "0    Banks      F                561 Perry Cove  ...  36.0788  -81.1781   \n",
       "1     Gill      F  43039 Riley Greens Suite 393  ...  48.8878 -118.2105   \n",
       "2  Sanchez      M      594 White Dale Suite 530  ...  42.1808 -112.2620   \n",
       "3    White      M   9443 Cynthia Court Apt. 038  ...  46.2306 -112.1138   \n",
       "4   Garcia      M              408 Bradley Rest  ...  38.4207  -79.4629   \n",
       "\n",
       "   city_pop                                job         dob  \\\n",
       "0      3495          Psychologist, counselling  1988-03-09   \n",
       "1       149  Special educational needs teacher  1978-06-21   \n",
       "2      4154        Nature conservation officer  1962-01-19   \n",
       "3      1939                    Patent attorney  1967-01-12   \n",
       "4        99     Dance movement psychotherapist  1986-03-28   \n",
       "\n",
       "                          trans_num   unix_time  merch_lat  merch_long  \\\n",
       "0  0b242abb623afc578575680df30655b9  1325376018  36.011293  -82.048315   \n",
       "1  1f76529f8574734946361c461b024d99  1325376044  49.159047 -118.186462   \n",
       "2  a1a22d70485983eac12b5b88dad1cf95  1325376051  43.150704 -112.154481   \n",
       "3  6b849c168bdad6f867558c3793159a81  1325376076  47.034331 -112.561071   \n",
       "4  a41d7549acf90789359a9aa5346dcb46  1325376186  38.674999  -78.632459   \n",
       "\n",
       "   is_fraud  \n",
       "0         0  \n",
       "1         0  \n",
       "2         0  \n",
       "3         0  \n",
       "4         0  \n",
       "\n",
       "[5 rows x 23 columns]"
      ]
     },
     "execution_count": 3,
     "metadata": {},
     "output_type": "execute_result"
    }
   ],
   "source": [
    "df1.head()"
   ]
  },
  {
   "cell_type": "markdown",
   "id": "dd4accb5",
   "metadata": {},
   "source": [
    "# Pre-processing"
   ]
  },
  {
   "cell_type": "code",
   "execution_count": 4,
   "id": "dc017d39",
   "metadata": {},
   "outputs": [],
   "source": [
    "df1['merchant'] = df1['merchant'].str.replace('fraud_', '', regex=False)"
   ]
  },
  {
   "cell_type": "markdown",
   "id": "793d49ab",
   "metadata": {},
   "source": [
    "### Removed redundant columns"
   ]
  },
  {
   "cell_type": "code",
   "execution_count": 5,
   "id": "6796dfc3",
   "metadata": {},
   "outputs": [],
   "source": [
    "df1.drop(['Unnamed: 0', 'trans_date_trans_time','last','street','dob','trans_num','unix_time','zip','cc_num','state'], axis=1, inplace=True)"
   ]
  },
  {
   "cell_type": "code",
   "execution_count": 6,
   "id": "8fe774ce",
   "metadata": {},
   "outputs": [],
   "source": [
    "df1.rename(columns={'first': 'Name','gender':'Gender','merchant':'Merchant','city':'City','amt':'Amount','category':'Category','city_pop':'Population','job':'Job'}, inplace=True)"
   ]
  },
  {
   "cell_type": "code",
   "execution_count": 7,
   "id": "235e4d27",
   "metadata": {},
   "outputs": [
    {
     "data": {
      "text/plain": [
       "0    1289169\n",
       "1       7506\n",
       "Name: is_fraud, dtype: int64"
      ]
     },
     "execution_count": 7,
     "metadata": {},
     "output_type": "execute_result"
    }
   ],
   "source": [
    "df1['is_fraud'].value_counts()  #signifies highly imbalanced data"
   ]
  },
  {
   "cell_type": "code",
   "execution_count": 8,
   "id": "8dc1d5ba",
   "metadata": {},
   "outputs": [
    {
     "data": {
      "text/plain": [
       "(1296675, 13)"
      ]
     },
     "execution_count": 8,
     "metadata": {},
     "output_type": "execute_result"
    }
   ],
   "source": [
    "df1.shape"
   ]
  },
  {
   "cell_type": "markdown",
   "id": "7bca9a9f",
   "metadata": {},
   "source": [
    "Since data is too big we have taken 100k rows for analysis"
   ]
  },
  {
   "cell_type": "code",
   "execution_count": 9,
   "id": "4db68c34",
   "metadata": {},
   "outputs": [],
   "source": [
    "df= df1[:100000]"
   ]
  },
  {
   "cell_type": "code",
   "execution_count": 10,
   "id": "b7474dbc",
   "metadata": {},
   "outputs": [
    {
     "data": {
      "text/plain": [
       "(100000, 13)"
      ]
     },
     "execution_count": 10,
     "metadata": {},
     "output_type": "execute_result"
    }
   ],
   "source": [
    "df.shape"
   ]
  },
  {
   "cell_type": "code",
   "execution_count": 11,
   "id": "291f56fb",
   "metadata": {},
   "outputs": [
    {
     "data": {
      "text/plain": [
       "0    99010\n",
       "1      990\n",
       "Name: is_fraud, dtype: int64"
      ]
     },
     "execution_count": 11,
     "metadata": {},
     "output_type": "execute_result"
    }
   ],
   "source": [
    "df['is_fraud'].value_counts()"
   ]
  },
  {
   "cell_type": "code",
   "execution_count": 12,
   "id": "183ec59d",
   "metadata": {},
   "outputs": [],
   "source": [
    "from sklearn.preprocessing import LabelEncoder\n",
    "\n",
    "# Encode categorical variables\n",
    "categorical_cols = ['Gender', 'Category', 'Merchant','Job','City','Name']\n",
    "label_encoder = LabelEncoder()\n",
    "for col in categorical_cols:\n",
    "    df[col] = label_encoder.fit_transform(df[col])\n",
    "    \n",
    "# Feature scaling\n",
    "numerical_cols = ['Amount', 'lat', 'long','merch_long','merch_lat','Population']\n",
    "scaler = StandardScaler()\n",
    "df[numerical_cols] = scaler.fit_transform(df[numerical_cols])\n",
    "\n",
    "\n",
    "X = df.drop('is_fraud', axis=1)\n",
    "y = df['is_fraud']"
   ]
  },
  {
   "cell_type": "markdown",
   "id": "4d8942cf",
   "metadata": {},
   "source": [
    "# Splitting the data"
   ]
  },
  {
   "cell_type": "code",
   "execution_count": 13,
   "id": "29944395",
   "metadata": {},
   "outputs": [],
   "source": [
    "X_train, X_test, y_train, y_test = train_test_split(X, y, test_size=0.2, random_state=42)"
   ]
  },
  {
   "cell_type": "code",
   "execution_count": 14,
   "id": "4a987f6c",
   "metadata": {},
   "outputs": [
    {
     "data": {
      "text/html": [
       "<div>\n",
       "<style scoped>\n",
       "    .dataframe tbody tr th:only-of-type {\n",
       "        vertical-align: middle;\n",
       "    }\n",
       "\n",
       "    .dataframe tbody tr th {\n",
       "        vertical-align: top;\n",
       "    }\n",
       "\n",
       "    .dataframe thead th {\n",
       "        text-align: right;\n",
       "    }\n",
       "</style>\n",
       "<table border=\"1\" class=\"dataframe\">\n",
       "  <thead>\n",
       "    <tr style=\"text-align: right;\">\n",
       "      <th></th>\n",
       "      <th>Merchant</th>\n",
       "      <th>Category</th>\n",
       "      <th>Amount</th>\n",
       "      <th>Name</th>\n",
       "      <th>Gender</th>\n",
       "      <th>City</th>\n",
       "      <th>lat</th>\n",
       "      <th>long</th>\n",
       "      <th>Population</th>\n",
       "      <th>Job</th>\n",
       "      <th>merch_lat</th>\n",
       "      <th>merch_long</th>\n",
       "    </tr>\n",
       "  </thead>\n",
       "  <tbody>\n",
       "    <tr>\n",
       "      <th>75220</th>\n",
       "      <td>429</td>\n",
       "      <td>12</td>\n",
       "      <td>-0.477319</td>\n",
       "      <td>305</td>\n",
       "      <td>0</td>\n",
       "      <td>463</td>\n",
       "      <td>-0.359100</td>\n",
       "      <td>0.040014</td>\n",
       "      <td>-0.292359</td>\n",
       "      <td>14</td>\n",
       "      <td>-0.401885</td>\n",
       "      <td>0.083030</td>\n",
       "    </tr>\n",
       "    <tr>\n",
       "      <th>48955</th>\n",
       "      <td>112</td>\n",
       "      <td>7</td>\n",
       "      <td>-0.175594</td>\n",
       "      <td>12</td>\n",
       "      <td>0</td>\n",
       "      <td>366</td>\n",
       "      <td>0.842701</td>\n",
       "      <td>1.318068</td>\n",
       "      <td>-0.277643</td>\n",
       "      <td>424</td>\n",
       "      <td>0.842048</td>\n",
       "      <td>1.374900</td>\n",
       "    </tr>\n",
       "    <tr>\n",
       "      <th>44966</th>\n",
       "      <td>540</td>\n",
       "      <td>5</td>\n",
       "      <td>-0.138992</td>\n",
       "      <td>22</td>\n",
       "      <td>0</td>\n",
       "      <td>170</td>\n",
       "      <td>-0.477855</td>\n",
       "      <td>0.837371</td>\n",
       "      <td>-0.254836</td>\n",
       "      <td>74</td>\n",
       "      <td>-0.404563</td>\n",
       "      <td>0.886771</td>\n",
       "    </tr>\n",
       "    <tr>\n",
       "      <th>13568</th>\n",
       "      <td>45</td>\n",
       "      <td>7</td>\n",
       "      <td>0.829515</td>\n",
       "      <td>88</td>\n",
       "      <td>1</td>\n",
       "      <td>522</td>\n",
       "      <td>0.924391</td>\n",
       "      <td>0.285405</td>\n",
       "      <td>0.131068</td>\n",
       "      <td>220</td>\n",
       "      <td>1.068186</td>\n",
       "      <td>0.260151</td>\n",
       "    </tr>\n",
       "    <tr>\n",
       "      <th>92727</th>\n",
       "      <td>112</td>\n",
       "      <td>7</td>\n",
       "      <td>-0.319259</td>\n",
       "      <td>130</td>\n",
       "      <td>1</td>\n",
       "      <td>680</td>\n",
       "      <td>-2.365201</td>\n",
       "      <td>0.587296</td>\n",
       "      <td>-0.283217</td>\n",
       "      <td>416</td>\n",
       "      <td>-2.423585</td>\n",
       "      <td>0.538324</td>\n",
       "    </tr>\n",
       "    <tr>\n",
       "      <th>...</th>\n",
       "      <td>...</td>\n",
       "      <td>...</td>\n",
       "      <td>...</td>\n",
       "      <td>...</td>\n",
       "      <td>...</td>\n",
       "      <td>...</td>\n",
       "      <td>...</td>\n",
       "      <td>...</td>\n",
       "      <td>...</td>\n",
       "      <td>...</td>\n",
       "      <td>...</td>\n",
       "      <td>...</td>\n",
       "    </tr>\n",
       "    <tr>\n",
       "      <th>6265</th>\n",
       "      <td>241</td>\n",
       "      <td>4</td>\n",
       "      <td>0.249027</td>\n",
       "      <td>224</td>\n",
       "      <td>0</td>\n",
       "      <td>551</td>\n",
       "      <td>0.866471</td>\n",
       "      <td>0.129595</td>\n",
       "      <td>-0.288018</td>\n",
       "      <td>26</td>\n",
       "      <td>0.962255</td>\n",
       "      <td>0.194700</td>\n",
       "    </tr>\n",
       "    <tr>\n",
       "      <th>54886</th>\n",
       "      <td>512</td>\n",
       "      <td>6</td>\n",
       "      <td>-0.040976</td>\n",
       "      <td>289</td>\n",
       "      <td>1</td>\n",
       "      <td>35</td>\n",
       "      <td>1.435704</td>\n",
       "      <td>-2.056172</td>\n",
       "      <td>-0.291420</td>\n",
       "      <td>115</td>\n",
       "      <td>1.469796</td>\n",
       "      <td>-2.072689</td>\n",
       "    </tr>\n",
       "    <tr>\n",
       "      <th>76820</th>\n",
       "      <td>290</td>\n",
       "      <td>8</td>\n",
       "      <td>-0.460526</td>\n",
       "      <td>145</td>\n",
       "      <td>1</td>\n",
       "      <td>837</td>\n",
       "      <td>-0.006225</td>\n",
       "      <td>0.601934</td>\n",
       "      <td>-0.277460</td>\n",
       "      <td>182</td>\n",
       "      <td>0.036119</td>\n",
       "      <td>0.638751</td>\n",
       "    </tr>\n",
       "    <tr>\n",
       "      <th>860</th>\n",
       "      <td>157</td>\n",
       "      <td>2</td>\n",
       "      <td>0.015366</td>\n",
       "      <td>47</td>\n",
       "      <td>0</td>\n",
       "      <td>157</td>\n",
       "      <td>1.585614</td>\n",
       "      <td>-1.959751</td>\n",
       "      <td>-0.293214</td>\n",
       "      <td>72</td>\n",
       "      <td>1.636359</td>\n",
       "      <td>-1.903440</td>\n",
       "    </tr>\n",
       "    <tr>\n",
       "      <th>15795</th>\n",
       "      <td>357</td>\n",
       "      <td>3</td>\n",
       "      <td>-0.190742</td>\n",
       "      <td>118</td>\n",
       "      <td>1</td>\n",
       "      <td>29</td>\n",
       "      <td>-0.021330</td>\n",
       "      <td>-0.015048</td>\n",
       "      <td>-0.178225</td>\n",
       "      <td>251</td>\n",
       "      <td>0.113169</td>\n",
       "      <td>-0.035065</td>\n",
       "    </tr>\n",
       "  </tbody>\n",
       "</table>\n",
       "<p>80000 rows × 12 columns</p>\n",
       "</div>"
      ],
      "text/plain": [
       "       Merchant  Category    Amount  Name  Gender  City       lat      long  \\\n",
       "75220       429        12 -0.477319   305       0   463 -0.359100  0.040014   \n",
       "48955       112         7 -0.175594    12       0   366  0.842701  1.318068   \n",
       "44966       540         5 -0.138992    22       0   170 -0.477855  0.837371   \n",
       "13568        45         7  0.829515    88       1   522  0.924391  0.285405   \n",
       "92727       112         7 -0.319259   130       1   680 -2.365201  0.587296   \n",
       "...         ...       ...       ...   ...     ...   ...       ...       ...   \n",
       "6265        241         4  0.249027   224       0   551  0.866471  0.129595   \n",
       "54886       512         6 -0.040976   289       1    35  1.435704 -2.056172   \n",
       "76820       290         8 -0.460526   145       1   837 -0.006225  0.601934   \n",
       "860         157         2  0.015366    47       0   157  1.585614 -1.959751   \n",
       "15795       357         3 -0.190742   118       1    29 -0.021330 -0.015048   \n",
       "\n",
       "       Population  Job  merch_lat  merch_long  \n",
       "75220   -0.292359   14  -0.401885    0.083030  \n",
       "48955   -0.277643  424   0.842048    1.374900  \n",
       "44966   -0.254836   74  -0.404563    0.886771  \n",
       "13568    0.131068  220   1.068186    0.260151  \n",
       "92727   -0.283217  416  -2.423585    0.538324  \n",
       "...           ...  ...        ...         ...  \n",
       "6265    -0.288018   26   0.962255    0.194700  \n",
       "54886   -0.291420  115   1.469796   -2.072689  \n",
       "76820   -0.277460  182   0.036119    0.638751  \n",
       "860     -0.293214   72   1.636359   -1.903440  \n",
       "15795   -0.178225  251   0.113169   -0.035065  \n",
       "\n",
       "[80000 rows x 12 columns]"
      ]
     },
     "execution_count": 14,
     "metadata": {},
     "output_type": "execute_result"
    }
   ],
   "source": [
    "X_train"
   ]
  },
  {
   "cell_type": "markdown",
   "id": "7c51440a",
   "metadata": {},
   "source": [
    "### Handling Imbalance"
   ]
  },
  {
   "cell_type": "code",
   "execution_count": 15,
   "id": "965ba311",
   "metadata": {},
   "outputs": [],
   "source": [
    "smote = SMOTE()\n",
    "X_train, y_train = smote.fit_resample(X_train,y_train)"
   ]
  },
  {
   "cell_type": "code",
   "execution_count": 16,
   "id": "c956d9dd",
   "metadata": {},
   "outputs": [
    {
     "data": {
      "text/html": [
       "<div>\n",
       "<style scoped>\n",
       "    .dataframe tbody tr th:only-of-type {\n",
       "        vertical-align: middle;\n",
       "    }\n",
       "\n",
       "    .dataframe tbody tr th {\n",
       "        vertical-align: top;\n",
       "    }\n",
       "\n",
       "    .dataframe thead th {\n",
       "        text-align: right;\n",
       "    }\n",
       "</style>\n",
       "<table border=\"1\" class=\"dataframe\">\n",
       "  <thead>\n",
       "    <tr style=\"text-align: right;\">\n",
       "      <th></th>\n",
       "      <th>Merchant</th>\n",
       "      <th>Category</th>\n",
       "      <th>Amount</th>\n",
       "      <th>Name</th>\n",
       "      <th>Gender</th>\n",
       "      <th>City</th>\n",
       "      <th>lat</th>\n",
       "      <th>long</th>\n",
       "      <th>Population</th>\n",
       "      <th>Job</th>\n",
       "      <th>merch_lat</th>\n",
       "      <th>merch_long</th>\n",
       "    </tr>\n",
       "  </thead>\n",
       "  <tbody>\n",
       "    <tr>\n",
       "      <th>0</th>\n",
       "      <td>429</td>\n",
       "      <td>12</td>\n",
       "      <td>-0.477319</td>\n",
       "      <td>305</td>\n",
       "      <td>0</td>\n",
       "      <td>463</td>\n",
       "      <td>-0.359100</td>\n",
       "      <td>0.040014</td>\n",
       "      <td>-0.292359</td>\n",
       "      <td>14</td>\n",
       "      <td>-0.401885</td>\n",
       "      <td>0.083030</td>\n",
       "    </tr>\n",
       "    <tr>\n",
       "      <th>1</th>\n",
       "      <td>112</td>\n",
       "      <td>7</td>\n",
       "      <td>-0.175594</td>\n",
       "      <td>12</td>\n",
       "      <td>0</td>\n",
       "      <td>366</td>\n",
       "      <td>0.842701</td>\n",
       "      <td>1.318068</td>\n",
       "      <td>-0.277643</td>\n",
       "      <td>424</td>\n",
       "      <td>0.842048</td>\n",
       "      <td>1.374900</td>\n",
       "    </tr>\n",
       "    <tr>\n",
       "      <th>2</th>\n",
       "      <td>540</td>\n",
       "      <td>5</td>\n",
       "      <td>-0.138992</td>\n",
       "      <td>22</td>\n",
       "      <td>0</td>\n",
       "      <td>170</td>\n",
       "      <td>-0.477855</td>\n",
       "      <td>0.837371</td>\n",
       "      <td>-0.254836</td>\n",
       "      <td>74</td>\n",
       "      <td>-0.404563</td>\n",
       "      <td>0.886771</td>\n",
       "    </tr>\n",
       "    <tr>\n",
       "      <th>3</th>\n",
       "      <td>45</td>\n",
       "      <td>7</td>\n",
       "      <td>0.829515</td>\n",
       "      <td>88</td>\n",
       "      <td>1</td>\n",
       "      <td>522</td>\n",
       "      <td>0.924391</td>\n",
       "      <td>0.285405</td>\n",
       "      <td>0.131068</td>\n",
       "      <td>220</td>\n",
       "      <td>1.068186</td>\n",
       "      <td>0.260151</td>\n",
       "    </tr>\n",
       "    <tr>\n",
       "      <th>4</th>\n",
       "      <td>112</td>\n",
       "      <td>7</td>\n",
       "      <td>-0.319259</td>\n",
       "      <td>130</td>\n",
       "      <td>1</td>\n",
       "      <td>680</td>\n",
       "      <td>-2.365201</td>\n",
       "      <td>0.587296</td>\n",
       "      <td>-0.283217</td>\n",
       "      <td>416</td>\n",
       "      <td>-2.423585</td>\n",
       "      <td>0.538324</td>\n",
       "    </tr>\n",
       "    <tr>\n",
       "      <th>...</th>\n",
       "      <td>...</td>\n",
       "      <td>...</td>\n",
       "      <td>...</td>\n",
       "      <td>...</td>\n",
       "      <td>...</td>\n",
       "      <td>...</td>\n",
       "      <td>...</td>\n",
       "      <td>...</td>\n",
       "      <td>...</td>\n",
       "      <td>...</td>\n",
       "      <td>...</td>\n",
       "      <td>...</td>\n",
       "    </tr>\n",
       "    <tr>\n",
       "      <th>158423</th>\n",
       "      <td>614</td>\n",
       "      <td>10</td>\n",
       "      <td>3.036805</td>\n",
       "      <td>291</td>\n",
       "      <td>0</td>\n",
       "      <td>176</td>\n",
       "      <td>0.146390</td>\n",
       "      <td>0.012843</td>\n",
       "      <td>-0.292270</td>\n",
       "      <td>336</td>\n",
       "      <td>0.220915</td>\n",
       "      <td>0.023587</td>\n",
       "    </tr>\n",
       "    <tr>\n",
       "      <th>158424</th>\n",
       "      <td>314</td>\n",
       "      <td>4</td>\n",
       "      <td>1.533891</td>\n",
       "      <td>229</td>\n",
       "      <td>0</td>\n",
       "      <td>766</td>\n",
       "      <td>-0.228406</td>\n",
       "      <td>0.179894</td>\n",
       "      <td>-0.229718</td>\n",
       "      <td>217</td>\n",
       "      <td>-0.199826</td>\n",
       "      <td>0.216000</td>\n",
       "    </tr>\n",
       "    <tr>\n",
       "      <th>158425</th>\n",
       "      <td>619</td>\n",
       "      <td>7</td>\n",
       "      <td>4.503206</td>\n",
       "      <td>277</td>\n",
       "      <td>1</td>\n",
       "      <td>304</td>\n",
       "      <td>-1.709689</td>\n",
       "      <td>0.583179</td>\n",
       "      <td>-0.288907</td>\n",
       "      <td>308</td>\n",
       "      <td>-1.816033</td>\n",
       "      <td>0.578712</td>\n",
       "    </tr>\n",
       "    <tr>\n",
       "      <th>158426</th>\n",
       "      <td>626</td>\n",
       "      <td>10</td>\n",
       "      <td>5.946798</td>\n",
       "      <td>34</td>\n",
       "      <td>0</td>\n",
       "      <td>386</td>\n",
       "      <td>-1.026874</td>\n",
       "      <td>0.267335</td>\n",
       "      <td>-0.279832</td>\n",
       "      <td>269</td>\n",
       "      <td>-0.911269</td>\n",
       "      <td>0.196968</td>\n",
       "    </tr>\n",
       "    <tr>\n",
       "      <th>158427</th>\n",
       "      <td>363</td>\n",
       "      <td>7</td>\n",
       "      <td>2.975307</td>\n",
       "      <td>76</td>\n",
       "      <td>0</td>\n",
       "      <td>266</td>\n",
       "      <td>0.276439</td>\n",
       "      <td>1.110421</td>\n",
       "      <td>-0.087293</td>\n",
       "      <td>56</td>\n",
       "      <td>0.359158</td>\n",
       "      <td>1.085192</td>\n",
       "    </tr>\n",
       "  </tbody>\n",
       "</table>\n",
       "<p>158428 rows × 12 columns</p>\n",
       "</div>"
      ],
      "text/plain": [
       "        Merchant  Category    Amount  Name  Gender  City       lat      long  \\\n",
       "0            429        12 -0.477319   305       0   463 -0.359100  0.040014   \n",
       "1            112         7 -0.175594    12       0   366  0.842701  1.318068   \n",
       "2            540         5 -0.138992    22       0   170 -0.477855  0.837371   \n",
       "3             45         7  0.829515    88       1   522  0.924391  0.285405   \n",
       "4            112         7 -0.319259   130       1   680 -2.365201  0.587296   \n",
       "...          ...       ...       ...   ...     ...   ...       ...       ...   \n",
       "158423       614        10  3.036805   291       0   176  0.146390  0.012843   \n",
       "158424       314         4  1.533891   229       0   766 -0.228406  0.179894   \n",
       "158425       619         7  4.503206   277       1   304 -1.709689  0.583179   \n",
       "158426       626        10  5.946798    34       0   386 -1.026874  0.267335   \n",
       "158427       363         7  2.975307    76       0   266  0.276439  1.110421   \n",
       "\n",
       "        Population  Job  merch_lat  merch_long  \n",
       "0        -0.292359   14  -0.401885    0.083030  \n",
       "1        -0.277643  424   0.842048    1.374900  \n",
       "2        -0.254836   74  -0.404563    0.886771  \n",
       "3         0.131068  220   1.068186    0.260151  \n",
       "4        -0.283217  416  -2.423585    0.538324  \n",
       "...            ...  ...        ...         ...  \n",
       "158423   -0.292270  336   0.220915    0.023587  \n",
       "158424   -0.229718  217  -0.199826    0.216000  \n",
       "158425   -0.288907  308  -1.816033    0.578712  \n",
       "158426   -0.279832  269  -0.911269    0.196968  \n",
       "158427   -0.087293   56   0.359158    1.085192  \n",
       "\n",
       "[158428 rows x 12 columns]"
      ]
     },
     "execution_count": 16,
     "metadata": {},
     "output_type": "execute_result"
    }
   ],
   "source": [
    "X_train"
   ]
  },
  {
   "cell_type": "code",
   "execution_count": 17,
   "id": "71c54b6e",
   "metadata": {},
   "outputs": [
    {
     "data": {
      "text/plain": [
       "0    79214\n",
       "1    79214\n",
       "Name: is_fraud, dtype: int64"
      ]
     },
     "execution_count": 17,
     "metadata": {},
     "output_type": "execute_result"
    }
   ],
   "source": [
    "y_train.value_counts()"
   ]
  },
  {
   "cell_type": "markdown",
   "id": "0ea56e59",
   "metadata": {},
   "source": [
    "# Non-Differential Privacy Models"
   ]
  },
  {
   "cell_type": "markdown",
   "id": "09714f35",
   "metadata": {},
   "source": [
    "## 1) Logistic Regression Model"
   ]
  },
  {
   "cell_type": "code",
   "execution_count": 18,
   "id": "4a98d07c",
   "metadata": {
    "scrolled": true
   },
   "outputs": [
    {
     "name": "stdout",
     "output_type": "stream",
     "text": [
      "Classification Report:\n",
      "              precision    recall  f1-score   support\n",
      "\n",
      "           0       1.00      0.94      0.97     19796\n",
      "           1       0.11      0.78      0.20       204\n",
      "\n",
      "    accuracy                           0.94     20000\n",
      "   macro avg       0.56      0.86      0.58     20000\n",
      "weighted avg       0.99      0.94      0.96     20000\n",
      "\n"
     ]
    }
   ],
   "source": [
    "log_reg = LogisticRegression()\n",
    "log_reg.fit(X_train, y_train)\n",
    "\n",
    "y_pred = log_reg.predict(X_test)\n",
    "\n",
    "print(\"Classification Report:\")\n",
    "print(classification_report(y_test, y_pred))"
   ]
  },
  {
   "cell_type": "code",
   "execution_count": 19,
   "id": "53a2ee46",
   "metadata": {},
   "outputs": [
    {
     "data": {
      "image/png": "[encoded data removed]",
      "text/plain": [
       "<Figure size 432x288 with 2 Axes>"
      ]
     },
     "metadata": {
      "needs_background": "light"
     },
     "output_type": "display_data"
    }
   ],
   "source": [
    "conf_matrix = confusion_matrix(y_test, y_pred)\n",
    "\n",
    "plt.figure(figsize=(6, 4))\n",
    "sns.heatmap(conf_matrix, annot=True, fmt=\"d\", cmap=\"Blues\")\n",
    "plt.title(\"Confusion Matrix\")\n",
    "plt.ylabel(\"Actual Values\")\n",
    "plt.xlabel(\"Predicted Values\")\n",
    "plt.show()"
   ]
  },
  {
   "cell_type": "markdown",
   "id": "066b1996",
   "metadata": {},
   "source": [
    "## 2) Random Forest Classifier"
   ]
  },
  {
   "cell_type": "code",
   "execution_count": 20,
   "id": "160bf1e3",
   "metadata": {},
   "outputs": [
    {
     "name": "stdout",
     "output_type": "stream",
     "text": [
      "Classification Report:\n",
      "              precision    recall  f1-score   support\n",
      "\n",
      "           0       1.00      0.99      1.00     19796\n",
      "           1       0.57      0.75      0.65       204\n",
      "\n",
      "    accuracy                           0.99     20000\n",
      "   macro avg       0.78      0.87      0.82     20000\n",
      "weighted avg       0.99      0.99      0.99     20000\n",
      "\n"
     ]
    }
   ],
   "source": [
    "random_forest = RandomForestClassifier()\n",
    "random_forest.fit(X_train, y_train)\n",
    "\n",
    "y_pred = random_forest.predict(X_test)\n",
    "\n",
    "print(\"Classification Report:\")\n",
    "print(classification_report(y_test, y_pred))"
   ]
  },
  {
   "cell_type": "code",
   "execution_count": 21,
   "id": "f98ca225",
   "metadata": {},
   "outputs": [
    {
     "data": {
      "image/png": "[encoded data removed]",
      "text/plain": [
       "<Figure size 432x288 with 2 Axes>"
      ]
     },
     "metadata": {
      "needs_background": "light"
     },
     "output_type": "display_data"
    }
   ],
   "source": [
    "conf_matrix = confusion_matrix(y_test, y_pred)\n",
    "\n",
    "plt.figure(figsize=(6, 4))\n",
    "sns.heatmap(conf_matrix, annot=True, fmt=\"d\", cmap=\"Blues\")\n",
    "plt.title(\"Confusion Matrix\")\n",
    "plt.ylabel(\"Actual Values\")\n",
    "plt.xlabel(\"Predicted Values\")\n",
    "plt.show()"
   ]
  },
  {
   "cell_type": "markdown",
   "id": "93f287a6",
   "metadata": {},
   "source": [
    "# Differential Privacy Models"
   ]
  },
  {
   "cell_type": "code",
   "execution_count": 22,
   "id": "c100571c",
   "metadata": {},
   "outputs": [],
   "source": [
    "from diffprivlib.mechanisms import Laplace\n",
    "def apply_laplace_mechanism(data, epsilon, sensitivity):\n",
    "    noise = np.random.laplace(0, sensitivity / epsilon, data.shape)\n",
    "    return data + noise\n",
    "\n",
    "# Define the epsilon (privacy budget) and sensitivity\n",
    "epsilon = 10 \n",
    "sensitivity = 1\n",
    "\n",
    "columns_to_privatize = df.columns.difference(['is_fraud'])\n",
    "\n",
    "# Apply differential privacy only to selected columns\n",
    "dp_df = df.copy()\n",
    "dp_df[columns_to_privatize] = dp_df[columns_to_privatize].apply(lambda col: apply_laplace_mechanism(col, epsilon, sensitivity))"
   ]
  },
  {
   "cell_type": "code",
   "execution_count": 23,
   "id": "f02b2711",
   "metadata": {},
   "outputs": [
    {
     "data": {
      "text/html": [
       "<div>\n",
       "<style scoped>\n",
       "    .dataframe tbody tr th:only-of-type {\n",
       "        vertical-align: middle;\n",
       "    }\n",
       "\n",
       "    .dataframe tbody tr th {\n",
       "        vertical-align: top;\n",
       "    }\n",
       "\n",
       "    .dataframe thead th {\n",
       "        text-align: right;\n",
       "    }\n",
       "</style>\n",
       "<table border=\"1\" class=\"dataframe\">\n",
       "  <thead>\n",
       "    <tr style=\"text-align: right;\">\n",
       "      <th></th>\n",
       "      <th>Merchant</th>\n",
       "      <th>Category</th>\n",
       "      <th>Amount</th>\n",
       "      <th>Name</th>\n",
       "      <th>Gender</th>\n",
       "      <th>City</th>\n",
       "      <th>lat</th>\n",
       "      <th>long</th>\n",
       "      <th>Population</th>\n",
       "      <th>Job</th>\n",
       "      <th>merch_lat</th>\n",
       "      <th>merch_long</th>\n",
       "      <th>is_fraud</th>\n",
       "    </tr>\n",
       "  </thead>\n",
       "  <tbody>\n",
       "    <tr>\n",
       "      <th>0</th>\n",
       "      <td>514.087565</td>\n",
       "      <td>8.118913</td>\n",
       "      <td>0.094574</td>\n",
       "      <td>155.043652</td>\n",
       "      <td>0.161951</td>\n",
       "      <td>499.991859</td>\n",
       "      <td>-0.487145</td>\n",
       "      <td>0.589302</td>\n",
       "      <td>-0.216459</td>\n",
       "      <td>359.197134</td>\n",
       "      <td>-0.530120</td>\n",
       "      <td>0.267251</td>\n",
       "      <td>0</td>\n",
       "    </tr>\n",
       "    <tr>\n",
       "      <th>1</th>\n",
       "      <td>240.978735</td>\n",
       "      <td>3.960158</td>\n",
       "      <td>0.304885</td>\n",
       "      <td>299.021638</td>\n",
       "      <td>-0.031728</td>\n",
       "      <td>575.903025</td>\n",
       "      <td>2.203985</td>\n",
       "      <td>-1.864419</td>\n",
       "      <td>-0.352882</td>\n",
       "      <td>413.987802</td>\n",
       "      <td>2.062753</td>\n",
       "      <td>-2.074881</td>\n",
       "      <td>0</td>\n",
       "    </tr>\n",
       "    <tr>\n",
       "      <th>2</th>\n",
       "      <td>389.978944</td>\n",
       "      <td>0.134290</td>\n",
       "      <td>1.069019</td>\n",
       "      <td>108.204634</td>\n",
       "      <td>0.911188</td>\n",
       "      <td>445.914901</td>\n",
       "      <td>0.415851</td>\n",
       "      <td>-1.755227</td>\n",
       "      <td>-0.294032</td>\n",
       "      <td>296.939148</td>\n",
       "      <td>0.889267</td>\n",
       "      <td>-1.603109</td>\n",
       "      <td>0</td>\n",
       "    </tr>\n",
       "    <tr>\n",
       "      <th>3</th>\n",
       "      <td>359.983533</td>\n",
       "      <td>1.895143</td>\n",
       "      <td>-0.536795</td>\n",
       "      <td>156.068913</td>\n",
       "      <td>1.242047</td>\n",
       "      <td>80.791741</td>\n",
       "      <td>1.456981</td>\n",
       "      <td>-1.855550</td>\n",
       "      <td>-0.167211</td>\n",
       "      <td>318.015868</td>\n",
       "      <td>1.864978</td>\n",
       "      <td>-1.565354</td>\n",
       "      <td>0</td>\n",
       "    </tr>\n",
       "    <tr>\n",
       "      <th>4</th>\n",
       "      <td>296.914709</td>\n",
       "      <td>9.020262</td>\n",
       "      <td>-0.074476</td>\n",
       "      <td>325.056353</td>\n",
       "      <td>0.876590</td>\n",
       "      <td>204.992002</td>\n",
       "      <td>-0.114962</td>\n",
       "      <td>0.883725</td>\n",
       "      <td>-0.479740</td>\n",
       "      <td>112.005603</td>\n",
       "      <td>-0.136171</td>\n",
       "      <td>0.554258</td>\n",
       "      <td>0</td>\n",
       "    </tr>\n",
       "    <tr>\n",
       "      <th>...</th>\n",
       "      <td>...</td>\n",
       "      <td>...</td>\n",
       "      <td>...</td>\n",
       "      <td>...</td>\n",
       "      <td>...</td>\n",
       "      <td>...</td>\n",
       "      <td>...</td>\n",
       "      <td>...</td>\n",
       "      <td>...</td>\n",
       "      <td>...</td>\n",
       "      <td>...</td>\n",
       "      <td>...</td>\n",
       "      <td>...</td>\n",
       "    </tr>\n",
       "    <tr>\n",
       "      <th>99995</th>\n",
       "      <td>460.976856</td>\n",
       "      <td>6.139589</td>\n",
       "      <td>0.081506</td>\n",
       "      <td>166.993291</td>\n",
       "      <td>0.993202</td>\n",
       "      <td>407.021900</td>\n",
       "      <td>1.042019</td>\n",
       "      <td>-0.399255</td>\n",
       "      <td>-0.434144</td>\n",
       "      <td>250.961341</td>\n",
       "      <td>1.071471</td>\n",
       "      <td>-0.464299</td>\n",
       "      <td>0</td>\n",
       "    </tr>\n",
       "    <tr>\n",
       "      <th>99996</th>\n",
       "      <td>342.976006</td>\n",
       "      <td>9.934800</td>\n",
       "      <td>-0.692380</td>\n",
       "      <td>336.999145</td>\n",
       "      <td>0.840082</td>\n",
       "      <td>197.899309</td>\n",
       "      <td>-1.557786</td>\n",
       "      <td>-0.080957</td>\n",
       "      <td>-0.060486</td>\n",
       "      <td>216.082975</td>\n",
       "      <td>-1.666765</td>\n",
       "      <td>-0.243544</td>\n",
       "      <td>0</td>\n",
       "    </tr>\n",
       "    <tr>\n",
       "      <th>99997</th>\n",
       "      <td>575.983293</td>\n",
       "      <td>1.101632</td>\n",
       "      <td>-0.320586</td>\n",
       "      <td>235.110701</td>\n",
       "      <td>0.932592</td>\n",
       "      <td>21.416025</td>\n",
       "      <td>0.374610</td>\n",
       "      <td>0.401266</td>\n",
       "      <td>-0.435379</td>\n",
       "      <td>284.068901</td>\n",
       "      <td>0.380163</td>\n",
       "      <td>0.682646</td>\n",
       "      <td>0</td>\n",
       "    </tr>\n",
       "    <tr>\n",
       "      <th>99998</th>\n",
       "      <td>515.039697</td>\n",
       "      <td>5.159405</td>\n",
       "      <td>0.028101</td>\n",
       "      <td>153.122922</td>\n",
       "      <td>1.115052</td>\n",
       "      <td>583.902653</td>\n",
       "      <td>1.887024</td>\n",
       "      <td>-0.784835</td>\n",
       "      <td>-0.299175</td>\n",
       "      <td>4.912447</td>\n",
       "      <td>1.758557</td>\n",
       "      <td>-0.849380</td>\n",
       "      <td>0</td>\n",
       "    </tr>\n",
       "    <tr>\n",
       "      <th>99999</th>\n",
       "      <td>306.123045</td>\n",
       "      <td>13.130074</td>\n",
       "      <td>-0.467739</td>\n",
       "      <td>126.058940</td>\n",
       "      <td>-0.011452</td>\n",
       "      <td>735.798984</td>\n",
       "      <td>0.434707</td>\n",
       "      <td>1.108377</td>\n",
       "      <td>-0.230554</td>\n",
       "      <td>393.863624</td>\n",
       "      <td>0.291592</td>\n",
       "      <td>1.217979</td>\n",
       "      <td>0</td>\n",
       "    </tr>\n",
       "  </tbody>\n",
       "</table>\n",
       "<p>100000 rows × 13 columns</p>\n",
       "</div>"
      ],
      "text/plain": [
       "         Merchant   Category    Amount        Name    Gender        City  \\\n",
       "0      514.087565   8.118913  0.094574  155.043652  0.161951  499.991859   \n",
       "1      240.978735   3.960158  0.304885  299.021638 -0.031728  575.903025   \n",
       "2      389.978944   0.134290  1.069019  108.204634  0.911188  445.914901   \n",
       "3      359.983533   1.895143 -0.536795  156.068913  1.242047   80.791741   \n",
       "4      296.914709   9.020262 -0.074476  325.056353  0.876590  204.992002   \n",
       "...           ...        ...       ...         ...       ...         ...   \n",
       "99995  460.976856   6.139589  0.081506  166.993291  0.993202  407.021900   \n",
       "99996  342.976006   9.934800 -0.692380  336.999145  0.840082  197.899309   \n",
       "99997  575.983293   1.101632 -0.320586  235.110701  0.932592   21.416025   \n",
       "99998  515.039697   5.159405  0.028101  153.122922  1.115052  583.902653   \n",
       "99999  306.123045  13.130074 -0.467739  126.058940 -0.011452  735.798984   \n",
       "\n",
       "            lat      long  Population         Job  merch_lat  merch_long  \\\n",
       "0     -0.487145  0.589302   -0.216459  359.197134  -0.530120    0.267251   \n",
       "1      2.203985 -1.864419   -0.352882  413.987802   2.062753   -2.074881   \n",
       "2      0.415851 -1.755227   -0.294032  296.939148   0.889267   -1.603109   \n",
       "3      1.456981 -1.855550   -0.167211  318.015868   1.864978   -1.565354   \n",
       "4     -0.114962  0.883725   -0.479740  112.005603  -0.136171    0.554258   \n",
       "...         ...       ...         ...         ...        ...         ...   \n",
       "99995  1.042019 -0.399255   -0.434144  250.961341   1.071471   -0.464299   \n",
       "99996 -1.557786 -0.080957   -0.060486  216.082975  -1.666765   -0.243544   \n",
       "99997  0.374610  0.401266   -0.435379  284.068901   0.380163    0.682646   \n",
       "99998  1.887024 -0.784835   -0.299175    4.912447   1.758557   -0.849380   \n",
       "99999  0.434707  1.108377   -0.230554  393.863624   0.291592    1.217979   \n",
       "\n",
       "       is_fraud  \n",
       "0             0  \n",
       "1             0  \n",
       "2             0  \n",
       "3             0  \n",
       "4             0  \n",
       "...         ...  \n",
       "99995         0  \n",
       "99996         0  \n",
       "99997         0  \n",
       "99998         0  \n",
       "99999         0  \n",
       "\n",
       "[100000 rows x 13 columns]"
      ]
     },
     "execution_count": 23,
     "metadata": {},
     "output_type": "execute_result"
    }
   ],
   "source": [
    "dp_df"
   ]
  },
  {
   "cell_type": "code",
   "execution_count": 24,
   "id": "08aeafc7",
   "metadata": {},
   "outputs": [],
   "source": [
    "dpX = dp_df.drop('is_fraud', axis=1)\n",
    "dpy = dp_df['is_fraud']"
   ]
  },
  {
   "cell_type": "code",
   "execution_count": 25,
   "id": "91fc7297",
   "metadata": {},
   "outputs": [],
   "source": [
    "dpX_train, dpX_test, dpy_train, dpy_test = train_test_split(dpX, dpy, test_size=0.2, random_state=42)"
   ]
  },
  {
   "cell_type": "markdown",
   "id": "c54106c5",
   "metadata": {},
   "source": [
    "### Handling Imbalance"
   ]
  },
  {
   "cell_type": "code",
   "execution_count": 26,
   "id": "204af2cc",
   "metadata": {},
   "outputs": [],
   "source": [
    "smote = SMOTE()\n",
    "dpX_train, dpy_train = smote.fit_resample(dpX_train,dpy_train)"
   ]
  },
  {
   "cell_type": "code",
   "execution_count": 27,
   "id": "aaec6142",
   "metadata": {},
   "outputs": [
    {
     "data": {
      "text/plain": [
       "0    79214\n",
       "1    79214\n",
       "Name: is_fraud, dtype: int64"
      ]
     },
     "execution_count": 27,
     "metadata": {},
     "output_type": "execute_result"
    }
   ],
   "source": [
    "dpy_train.value_counts()"
   ]
  },
  {
   "cell_type": "markdown",
   "id": "60ca3e9c",
   "metadata": {},
   "source": [
    "## 1) Logistic Regression "
   ]
  },
  {
   "cell_type": "code",
   "execution_count": 28,
   "id": "8850b19f",
   "metadata": {},
   "outputs": [
    {
     "name": "stdout",
     "output_type": "stream",
     "text": [
      "Classification Report:\n",
      "              precision    recall  f1-score   support\n",
      "\n",
      "           0       1.00      0.94      0.97     19796\n",
      "           1       0.12      0.77      0.21       204\n",
      "\n",
      "    accuracy                           0.94     20000\n",
      "   macro avg       0.56      0.86      0.59     20000\n",
      "weighted avg       0.99      0.94      0.96     20000\n",
      "\n"
     ]
    }
   ],
   "source": [
    "log_reg = LogisticRegression()\n",
    "log_reg.fit(dpX_train, dpy_train)\n",
    "\n",
    "dpy_pred = log_reg.predict(dpX_test)\n",
    "\n",
    "print(\"Classification Report:\")\n",
    "print(classification_report(dpy_test, dpy_pred))"
   ]
  },
  {
   "cell_type": "code",
   "execution_count": 29,
   "id": "523a2701",
   "metadata": {},
   "outputs": [
    {
     "data": {
      "image/png": "[encoded data removed]",
      "text/plain": [
       "<Figure size 432x288 with 2 Axes>"
      ]
     },
     "metadata": {
      "needs_background": "light"
     },
     "output_type": "display_data"
    }
   ],
   "source": [
    "conf_matrix = confusion_matrix(dpy_test, dpy_pred)\n",
    "\n",
    "plt.figure(figsize=(6, 4))\n",
    "sns.heatmap(conf_matrix, annot=True, fmt=\"d\", cmap=\"Blues\")\n",
    "plt.title(\"Confusion Matrix\")\n",
    "plt.ylabel(\"Actual Values\")\n",
    "plt.xlabel(\"Predicted Values\")\n",
    "plt.show()"
   ]
  },
  {
   "cell_type": "markdown",
   "id": "7a02f750",
   "metadata": {},
   "source": [
    "## 2) Random Forest"
   ]
  },
  {
   "cell_type": "code",
   "execution_count": 30,
   "id": "747cda3c",
   "metadata": {},
   "outputs": [
    {
     "name": "stdout",
     "output_type": "stream",
     "text": [
      "Classification Report:\n",
      "              precision    recall  f1-score   support\n",
      "\n",
      "           0       1.00      0.99      0.99     19796\n",
      "           1       0.50      0.72      0.59       204\n",
      "\n",
      "    accuracy                           0.99     20000\n",
      "   macro avg       0.75      0.86      0.79     20000\n",
      "weighted avg       0.99      0.99      0.99     20000\n",
      "\n"
     ]
    }
   ],
   "source": [
    "random_forest = RandomForestClassifier()\n",
    "random_forest.fit(dpX_train, dpy_train)\n",
    "\n",
    "dpy_pred = random_forest.predict(dpX_test)\n",
    "\n",
    "print(\"Classification Report:\")\n",
    "print(classification_report(dpy_test, dpy_pred))"
   ]
  },
  {
   "cell_type": "code",
   "execution_count": 31,
   "id": "996aaa3b",
   "metadata": {},
   "outputs": [
    {
     "data": {
      "image/png": "[encoded data removed]",
      "text/plain": [
       "<Figure size 432x288 with 2 Axes>"
      ]
     },
     "metadata": {
      "needs_background": "light"
     },
     "output_type": "display_data"
    }
   ],
   "source": [
    "conf_matrix = confusion_matrix(dpy_test, dpy_pred)\n",
    "\n",
    "plt.figure(figsize=(6, 4))\n",
    "sns.heatmap(conf_matrix, annot=True, fmt=\"d\", cmap=\"Blues\")\n",
    "plt.title(\"Confusion Matrix\")\n",
    "plt.ylabel(\"Actual Values\")\n",
    "plt.xlabel(\"Predicted Values\")\n",
    "plt.show()"
   ]
  },
  {
   "cell_type": "code",
   "execution_count": null,
   "id": "f5b82048",
   "metadata": {},
   "outputs": [],
   "source": []
  }
 ],
 "metadata": {
  "kernelspec": {
   "display_name": "Python 3",
   "language": "python",
   "name": "python3"
  },
  "language_info": {
   "codemirror_mode": {
    "name": "ipython",
    "version": 3
   },
   "file_extension": ".py",
   "mimetype": "text/x-python",
   "name": "python",
   "nbconvert_exporter": "python",
   "pygments_lexer": "ipython3",
   "version": "3.8.8"
  }
 },
 "nbformat": 4,
 "nbformat_minor": 5
}
